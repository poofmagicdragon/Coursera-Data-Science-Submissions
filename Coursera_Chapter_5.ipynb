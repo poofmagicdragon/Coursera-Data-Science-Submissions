{
  "nbformat": 4,
  "nbformat_minor": 0,
  "metadata": {
    "colab": {
      "provenance": []
    },
    "kernelspec": {
      "name": "python3",
      "display_name": "Python 3"
    },
    "language_info": {
      "name": "python"
    }
  },
  "cells": [
    {
      "cell_type": "code",
      "execution_count": null,
      "metadata": {
        "id": "7pMhtGLFjIfS"
      },
      "outputs": [],
      "source": [
        "#1\n",
        "import yfinance as yf\n",
        "\n",
        "tesla = yf.Ticker(\"TSLA\")\n",
        "tesla_data = tesla.history(period=\"max\")\n",
        "tesla_data.reset_index(inplace=True)\n",
        "\n",
        "tesla_data.head()\n",
        "\n"
      ]
    },
    {
      "cell_type": "code",
      "source": [
        "#2\n",
        "\n",
        "import requests\n",
        "from bs4 import BeautifulSoup\n",
        "import pandas as pd\n",
        "\n",
        "url = \"https://www.macrotrends.net/stocks/charts/TSLA/tesla/revenue\"\n",
        "headers = {'User-Agent': 'Mozilla/5.0'}\n",
        "response = requests.get(url, headers=headers)\n",
        "soup = BeautifulSoup(response.text, 'html.parser')\n",
        "\n",
        "tables = soup.find_all('table')\n",
        "for table in tables:\n",
        "    if \"Tesla Quarterly Revenue\" in str(table):\n",
        "        revenue_df = pd.read_html(str(table))[0]\n",
        "        break\n",
        "revenue_df.head()\n",
        "\n"
      ],
      "metadata": {
        "id": "2yPpk1HMjLSz"
      },
      "execution_count": null,
      "outputs": []
    },
    {
      "cell_type": "code",
      "source": [
        "# 3\n",
        "\n",
        "gamestop = yf.Ticker(\"GME\")\n",
        "gme_data = gamestop.history(period=\"max\")\n",
        "gme_data.reset_index(inplace=True)\n",
        "gme_data.head()\n"
      ],
      "metadata": {
        "id": "q4GdNojmjL_y"
      },
      "execution_count": null,
      "outputs": []
    },
    {
      "cell_type": "code",
      "source": [
        "# 4\n",
        "\n",
        "url = \"https://www.macrotrends.net/stocks/charts/GME/gamestop/revenue\"\n",
        "response = requests.get(url, headers=headers)\n",
        "soup = BeautifulSoup(response.text, 'html.parser')\n",
        "\n",
        "tables = soup.find_all('table')\n",
        "for table in tables:\n",
        "    if \"GameStop Quarterly Revenue\" in str(table):\n",
        "        gme_revenue_df = pd.read_html(str(table))[0]\n",
        "        break\n",
        "\n",
        "gme_revenue_df = gme_revenue_df.dropna()\n",
        "gme_revenue_df.columns = ['Date', 'Revenue']\n",
        "gme_revenue_df['Revenue'] = gme_revenue_df['Revenue'].replace({'\\$': '', ',': ''}, regex=True)\n",
        "gme_revenue_df['Revenue'] = pd.to_numeric(gme_revenue_df['Revenue'])\n",
        "\n",
        "gme_revenue_df.head()\n"
      ],
      "metadata": {
        "id": "-NsiPLcajN0P"
      },
      "execution_count": null,
      "outputs": []
    },
    {
      "cell_type": "code",
      "source": [
        "#5\n",
        "\n",
        "import plotly.graph_objects as go\n",
        "\n",
        "\n",
        "revenue_df.columns = ['Date', 'Revenue']\n",
        "revenue_df['Revenue'] = revenue_df['Revenue'].replace({'\\$': '', ',': ''}, regex=True)\n",
        "revenue_df['Revenue'] = pd.to_numeric(revenue_df['Revenue'])\n",
        "\n",
        "fig = go.Figure()\n",
        "\n",
        "fig.add_trace(go.Scatter(x=tesla_data['Date'], y=tesla_data['Close'], name=\"Tesla Stock\"))\n",
        "fig.add_trace(go.Scatter(x=revenue_df['Date'], y=revenue_df['Revenue'], name=\"Tesla Revenue\"))\n",
        "\n",
        "fig.update_layout(title='Tesla Stock and Revenue Over Time',\n",
        "                  xaxis_title='Date',\n",
        "                  yaxis_title='Price / Revenue',\n",
        "                  template=\"plotly_dark\")\n",
        "\n",
        "fig.show()\n",
        "\n",
        "\n",
        "\n"
      ],
      "metadata": {
        "id": "kmxOsq_zjQk9"
      },
      "execution_count": null,
      "outputs": []
    },
    {
      "cell_type": "code",
      "source": [
        "#6\n",
        "\n",
        "fig = go.Figure()\n",
        "\n",
        "fig.add_trace(go.Scatter(x=gme_data['Date'], y=gme_data['Close'], name=\"GameStop Stock\"))\n",
        "fig.add_trace(go.Scatter(x=gme_revenue_df['Date'], y=gme_revenue_df['Revenue'], name=\"GameStop Revenue\"))\n",
        "\n",
        "fig.update_layout(title='GameStop Stock and Revenue Over Time',\n",
        "                  xaxis_title='Date',\n",
        "                  yaxis_title='Price / Revenue',\n",
        "                  template=\"plotly_dark\")\n",
        "\n",
        "fig.show()\n"
      ],
      "metadata": {
        "id": "MAGsnHS7jSYo"
      },
      "execution_count": null,
      "outputs": []
    }
  ]
}